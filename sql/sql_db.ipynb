{
 "cells": [
  {
   "cell_type": "code",
   "execution_count": null,
   "metadata": {},
   "outputs": [],
   "source": [
    "import psycopg2\n",
    "import psycopg2.extras\n",
    "from config import connection\n",
    "import csv\n",
    "import os\n",
    "\n",
    "# ** --> dictionary unpacking!\n",
    "conn = psycopg2.connect(**connection)\n",
    "\n",
    "\n",
    "with conn.cursor() as cursor:\n",
    "    # READ FILES IN PYTHON\n",
    "    with open('sql/schema.sql', 'r') as schema:\n",
    "        # read --> reads in entire file\n",
    "        queries = schema.read()\n",
    "        print(queries)\n",
    "        # we are starting a transaction (or continuing)\n",
    "        cursor.execute(queries)\n",
    "    # commit your changes\n",
    "    conn.commit()"
   ]
  }
 ],
 "metadata": {
  "kernelspec": {
   "display_name": "Python 3.10.7 64-bit",
   "language": "python",
   "name": "python3"
  },
  "language_info": {
   "name": "python",
   "version": "3.10.7"
  },
  "orig_nbformat": 4,
  "vscode": {
   "interpreter": {
    "hash": "aee8b7b246df8f9039afb4144a1f6fd8d2ca17a180786b69acc140d282b71a49"
   }
  }
 },
 "nbformat": 4,
 "nbformat_minor": 2
}
